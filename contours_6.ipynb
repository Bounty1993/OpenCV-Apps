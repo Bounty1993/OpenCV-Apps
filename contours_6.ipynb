{
 "cells": [
  {
   "cell_type": "code",
   "execution_count": 16,
   "id": "square-isaac",
   "metadata": {},
   "outputs": [],
   "source": [
    "import os\n",
    "\n",
    "import cv2\n",
    "import numpy\n",
    "import matplotlib.pyplot as plt"
   ]
  },
  {
   "cell_type": "code",
   "execution_count": 8,
   "id": "internal-rates",
   "metadata": {},
   "outputs": [],
   "source": [
    "logo = cv2.imread('opencv-logo.png')\n",
    "logo_g = cv2.cvtColor(logo, cv2.COLOR_BGR2GRAY)\n",
    "ret, thresh = cv2.threshold(logo_g, 127, 255, 0)\n",
    "contours, hierarchy = cv2.findContours(thresh, cv2.RETR_TREE, cv2.CHAIN_APPROX_NONE)\n",
    "\n",
    "cv2.drawContours(logo, contours, -1, (0, 255, 0), 3)\n",
    "\n",
    "cv2.imshow('Logo', logo)\n",
    "cv2.waitKey(0)\n",
    "cv2.destroyAllWindows()"
   ]
  },
  {
   "cell_type": "markdown",
   "id": "incorporated-innocent",
   "metadata": {},
   "source": [
    "### Video"
   ]
  },
  {
   "cell_type": "code",
   "execution_count": 27,
   "id": "genuine-amateur",
   "metadata": {},
   "outputs": [],
   "source": [
    "video_path = os.path.join('images', 'vtest.mp4')\n",
    "cap = cv2.VideoCapture(video_path)\n",
    "\n",
    "ret, frame1 = cap.read()\n",
    "ret, frame2 = cap.read()\n",
    "\n",
    "while True:\n",
    "    diff = cv2.absdiff(frame1, frame2)\n",
    "    gray = cv2.cvtColor(diff, cv2.COLOR_BGR2GRAY)\n",
    "    blur = cv2.GaussianBlur(gray, (5, 5), 0)\n",
    "    _, thresh = cv2.threshold(blur, 20, 255, cv2.THRESH_BINARY)\n",
    "    dilated = cv2.dilate(thresh, None, iterations=3)\n",
    "    contours, _ = cv2.findContours(dilated, cv2.RETR_TREE, cv2.CHAIN_APPROX_SIMPLE)\n",
    "    \n",
    "    \n",
    "    for contour in contours:\n",
    "        x, y, w, h = cv2.boundingRect(contour)\n",
    "        if cv2.contourArea(contour) < 900:\n",
    "            continue\n",
    "        cv2.rectangle(frame1, (x, y), (x+w, y+h), (0, 255, 0), 3)\n",
    "        cv2.putText(frame1, f'Status: {\"Movement\"}', (10, 20), cv2.FONT_HERSHEY_SIMPLEX,\n",
    "                    1, (0, 0, 255), 3)\n",
    "        \n",
    "    # cv2.drawContours(frame1, contours, -1, (0, 255, 0), 3)\n",
    "    cv2.imshow('Video', frame1)\n",
    "    \n",
    "    frame1 = frame2\n",
    "    ret, frame2 = cap.read()\n",
    "    \n",
    "    k = cv2.waitKey(1)\n",
    "    if k == 27:\n",
    "        break\n",
    "        \n",
    "cv2.destroyAllWindows()\n",
    "cap.release()"
   ]
  },
  {
   "cell_type": "code",
   "execution_count": null,
   "id": "backed-hepatitis",
   "metadata": {},
   "outputs": [],
   "source": []
  },
  {
   "cell_type": "code",
   "execution_count": null,
   "id": "minimal-fault",
   "metadata": {},
   "outputs": [],
   "source": []
  }
 ],
 "metadata": {
  "kernelspec": {
   "display_name": "Python 3",
   "language": "python",
   "name": "python3"
  },
  "language_info": {
   "codemirror_mode": {
    "name": "ipython",
    "version": 3
   },
   "file_extension": ".py",
   "mimetype": "text/x-python",
   "name": "python",
   "nbconvert_exporter": "python",
   "pygments_lexer": "ipython3",
   "version": "3.8.5"
  }
 },
 "nbformat": 4,
 "nbformat_minor": 5
}
