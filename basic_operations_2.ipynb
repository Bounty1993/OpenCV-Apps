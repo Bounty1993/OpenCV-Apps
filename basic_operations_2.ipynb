{
 "cells": [
  {
   "cell_type": "code",
   "execution_count": 1,
   "id": "popular-sudan",
   "metadata": {},
   "outputs": [],
   "source": [
    "import cv2\n",
    "import numpy as np"
   ]
  },
  {
   "cell_type": "code",
   "execution_count": 12,
   "id": "thrown-blink",
   "metadata": {},
   "outputs": [
    {
     "name": "stdout",
     "output_type": "stream",
     "text": [
      "151593\n",
      "(169, 299, 3)\n",
      "uint8\n"
     ]
    }
   ],
   "source": [
    "img = cv2.imread('messi.jpg')\n",
    "print(img.size)\n",
    "print(img.shape)\n",
    "print(img.dtype)\n",
    "\n",
    "img = cv2.resize(img, (598, 339))\n",
    "\n",
    "cor_1, cor_2 = (360, 280), (420, 338)\n",
    "\n",
    "img = cv2.rectangle(img, cor_1, cor_2, (0,0,255), 1)\n",
    "\n",
    "ball = img[cor_1[1]:cor_2[1], cor_1[0]: cor_2[0]]\n",
    "\n",
    "#b, g, r = cv2.split(img)\n",
    "#img = cv2.merge((b, g, r))\n",
    "\n",
    "cv2.imshow('messi', img)\n",
    "cv2.waitKey(0)\n",
    "cv2.destroyAllWindows()"
   ]
  },
  {
   "cell_type": "code",
   "execution_count": 11,
   "id": "regulation-hardware",
   "metadata": {},
   "outputs": [
    {
     "data": {
      "text/plain": [
       "338"
      ]
     },
     "execution_count": 11,
     "metadata": {},
     "output_type": "execute_result"
    }
   ],
   "source": [
    "169*2"
   ]
  },
  {
   "cell_type": "code",
   "execution_count": null,
   "id": "portable-anthony",
   "metadata": {},
   "outputs": [],
   "source": []
  }
 ],
 "metadata": {
  "kernelspec": {
   "display_name": "Python 3",
   "language": "python",
   "name": "python3"
  },
  "language_info": {
   "codemirror_mode": {
    "name": "ipython",
    "version": 3
   },
   "file_extension": ".py",
   "mimetype": "text/x-python",
   "name": "python",
   "nbconvert_exporter": "python",
   "pygments_lexer": "ipython3",
   "version": "3.8.5"
  }
 },
 "nbformat": 4,
 "nbformat_minor": 5
}
