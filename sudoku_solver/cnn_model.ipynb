{
 "cells": [
  {
   "cell_type": "code",
   "execution_count": 31,
   "id": "respective-portal",
   "metadata": {},
   "outputs": [],
   "source": [
    "import numpy as np\n",
    "\n",
    "from tensorflow.keras.models import Sequential\n",
    "from tensorflow.keras.layers import Conv2D, MaxPooling2D, Flatten, Dense \n",
    "from tensorflow.keras.datasets import mnist\n",
    "from tensorflow.keras.utils import to_categorical"
   ]
  },
  {
   "cell_type": "code",
   "execution_count": 42,
   "id": "contained-uncertainty",
   "metadata": {},
   "outputs": [
    {
     "name": "stdout",
     "output_type": "stream",
     "text": [
      "Model: \"sequential_6\"\n",
      "_________________________________________________________________\n",
      "Layer (type)                 Output Shape              Param #   \n",
      "=================================================================\n",
      "conv2d_14 (Conv2D)           (None, 26, 26, 64)        640       \n",
      "_________________________________________________________________\n",
      "max_pooling2d_11 (MaxPooling (None, 13, 13, 64)        0         \n",
      "_________________________________________________________________\n",
      "conv2d_15 (Conv2D)           (None, 11, 11, 32)        18464     \n",
      "_________________________________________________________________\n",
      "max_pooling2d_12 (MaxPooling (None, 5, 5, 32)          0         \n",
      "_________________________________________________________________\n",
      "flatten_3 (Flatten)          (None, 800)               0         \n",
      "_________________________________________________________________\n",
      "dense_3 (Dense)              (None, 10)                8010      \n",
      "=================================================================\n",
      "Total params: 27,114\n",
      "Trainable params: 27,114\n",
      "Non-trainable params: 0\n",
      "_________________________________________________________________\n"
     ]
    }
   ],
   "source": [
    "model = Sequential()\n",
    "model.add(Conv2D(64, (3, 3), activation='relu', input_shape=(28, 28, 1)))\n",
    "model.add(MaxPooling2D((2, 2)))\n",
    "model.add(Conv2D(32, (3, 3), activation='relu'))\n",
    "model.add(MaxPooling2D((2, 2)))\n",
    "model.add(Flatten())\n",
    "model.add(Dense(10, activation='softmax'))\n",
    "\n",
    "model.summary()"
   ]
  },
  {
   "cell_type": "code",
   "execution_count": 43,
   "id": "endless-terror",
   "metadata": {},
   "outputs": [],
   "source": [
    "(train_img, train_Y), (test_img, test_Y) = mnist.load_data()\n",
    "train_img = np.expand_dims(train_img, axis=-1)\n",
    "test_img = np.expand_dims(test_img, axis=-1)\n",
    "\n",
    "train_img = train_img.astype('float32') / 255\n",
    "test_img = test_img.astype('float32') / 255\n",
    "\n",
    "train_Y = to_categorical(train_Y)\n",
    "test_Y = to_categorical(test_Y)"
   ]
  },
  {
   "cell_type": "code",
   "execution_count": 44,
   "id": "known-interference",
   "metadata": {},
   "outputs": [
    {
     "name": "stdout",
     "output_type": "stream",
     "text": [
      "Epoch 1/5\n",
      "235/235 [==============================] - 37s 155ms/step - loss: 0.4054 - accuracy: 0.8928 - val_loss: 0.1109 - val_accuracy: 0.9697\n",
      "Epoch 2/5\n",
      "235/235 [==============================] - 37s 158ms/step - loss: 0.1055 - accuracy: 0.9686 - val_loss: 0.0796 - val_accuracy: 0.9759\n",
      "Epoch 3/5\n",
      "235/235 [==============================] - 37s 158ms/step - loss: 0.0751 - accuracy: 0.9773 - val_loss: 0.0611 - val_accuracy: 0.9815\n",
      "Epoch 4/5\n",
      "235/235 [==============================] - 37s 157ms/step - loss: 0.0619 - accuracy: 0.9811 - val_loss: 0.0491 - val_accuracy: 0.9841\n",
      "Epoch 5/5\n",
      "235/235 [==============================] - 37s 156ms/step - loss: 0.0524 - accuracy: 0.9837 - val_loss: 0.0480 - val_accuracy: 0.9834\n"
     ]
    },
    {
     "data": {
      "text/plain": [
       "<tensorflow.python.keras.callbacks.History at 0x1e359aab3d0>"
      ]
     },
     "execution_count": 44,
     "metadata": {},
     "output_type": "execute_result"
    }
   ],
   "source": [
    "model.compile(optimizer='adam', \n",
    "              loss='categorical_crossentropy', \n",
    "              metrics=['accuracy'])\n",
    "history = model.fit(train_img, \n",
    "                    train_Y, \n",
    "                    epochs=5, \n",
    "                    batch_size=256, \n",
    "                    validation_data=(test_img, test_Y))"
   ]
  },
  {
   "cell_type": "code",
   "execution_count": null,
   "id": "brief-father",
   "metadata": {},
   "outputs": [],
   "source": []
  }
 ],
 "metadata": {
  "kernelspec": {
   "display_name": "Python 3",
   "language": "python",
   "name": "python3"
  },
  "language_info": {
   "codemirror_mode": {
    "name": "ipython",
    "version": 3
   },
   "file_extension": ".py",
   "mimetype": "text/x-python",
   "name": "python",
   "nbconvert_exporter": "python",
   "pygments_lexer": "ipython3",
   "version": "3.8.5"
  }
 },
 "nbformat": 4,
 "nbformat_minor": 5
}
