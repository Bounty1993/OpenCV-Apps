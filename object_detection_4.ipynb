{
 "cells": [
  {
   "cell_type": "code",
   "execution_count": 2,
   "id": "focal-singer",
   "metadata": {},
   "outputs": [],
   "source": [
    "import numpy as np\n",
    "import cv2"
   ]
  },
  {
   "cell_type": "code",
   "execution_count": 5,
   "id": "tropical-allowance",
   "metadata": {},
   "outputs": [],
   "source": [
    "def nothing(x):\n",
    "    pass\n",
    "\n",
    "cap = cv2.VideoCapture(0)\n",
    "cv2.namedWindow('Tracking')\n",
    "cv2.createTrackbar('LH', 'Tracking', 0, 255, nothing)\n",
    "cv2.createTrackbar('LS', 'Tracking', 0, 255, nothing)\n",
    "cv2.createTrackbar('LV', 'Tracking', 0, 255, nothing)\n",
    "cv2.createTrackbar('UH', 'Tracking', 255, 255, nothing)\n",
    "cv2.createTrackbar('US', 'Tracking', 255, 255, nothing)\n",
    "cv2.createTrackbar('UV', 'Tracking', 255, 255, nothing)\n",
    "\n",
    "while True:\n",
    "    # img = cv2.imread('smarties.jpg')\n",
    "    _, img = cap.read()\n",
    "    hsv = cv2.cvtColor(img, cv2.COLOR_BGR2HSV)\n",
    "    \n",
    "    l_h = cv2.getTrackbarPos('LH', 'Tracking')\n",
    "    u_h = cv2.getTrackbarPos('UH', 'Tracking')\n",
    "    l_s = cv2.getTrackbarPos('LS', 'Tracking')\n",
    "    u_s = cv2.getTrackbarPos('US', 'Tracking')\n",
    "    l_v = cv2.getTrackbarPos('LV', 'Tracking')\n",
    "    u_v = cv2.getTrackbarPos('UV', 'Tracking')\n",
    "    \n",
    "    l_b = np.array([l_h, l_s, l_v,])\n",
    "    u_b = np.array([u_h, u_s, u_v])\n",
    "    \n",
    "    mask = cv2.inRange(hsv, l_b, u_b)\n",
    "    res = cv2.bitwise_and(img, img, mask=mask)\n",
    "    \n",
    "    cv2.imshow('smarties', res)\n",
    "    #cv2.imshow('smarties', img)\n",
    "\n",
    "    k = cv2.waitKey(1)\n",
    "    if k == 27:\n",
    "        break\n",
    "\n",
    "cap.release()\n",
    "cv2.destroyAllWindows()"
   ]
  },
  {
   "cell_type": "markdown",
   "id": "tested-lightweight",
   "metadata": {},
   "source": [
    "# Thresholding"
   ]
  },
  {
   "cell_type": "code",
   "execution_count": 12,
   "id": "fundamental-split",
   "metadata": {},
   "outputs": [],
   "source": [
    "grad = cv2.imread('gradient.jpg', 0)\n",
    "\n",
    "_, th1 = cv2.threshold(grad, 127, 255, cv2.THRESH_BINARY)\n",
    "_, th2 = cv2.threshold(grad, 127, 255, cv2.THRESH_BINARY_INV)\n",
    "_, th3 = cv2.threshold(grad, 127, 255, cv2.THRESH_TRUNC)\n",
    "_, th4 = cv2.threshold(grad, 127, 255, cv2.THRESH_TOZERO)\n",
    "\n",
    "cv2.imshow('gradient', grad)\n",
    "cv2.imshow('th1', th1)\n",
    "cv2.imshow('th2', th2)\n",
    "cv2.imshow('th3', th3)\n",
    "cv2.imshow('th4', th4)\n",
    "\n",
    "cv2.waitKey(0)\n",
    "cv2.destroyAllWindows()"
   ]
  },
  {
   "cell_type": "code",
   "execution_count": 32,
   "id": "figured-princess",
   "metadata": {},
   "outputs": [],
   "source": [
    "sudo = cv2.imread('sudoku.jpg', 0)\n",
    "\n",
    "_, th1 = cv2.threshold(sudo, 100, 255, cv2.THRESH_BINARY)\n",
    "th2 = cv2.adaptiveThreshold(sudo, 255, cv2.ADAPTIVE_THRESH_MEAN_C, cv2.THRESH_BINARY, 11, 2)\n",
    "th3 = cv2.adaptiveThreshold(sudo, 255, cv2.ADAPTIVE_THRESH_GAUSSIAN_C, cv2.THRESH_BINARY, 41, 8)\n",
    "cv2.imshow('sudoku', th3)\n",
    "\n",
    "cv2.waitKey(0)\n",
    "cv2.destroyAllWindows()"
   ]
  },
  {
   "cell_type": "markdown",
   "id": "asian-assistant",
   "metadata": {},
   "source": [
    "### Dilation"
   ]
  },
  {
   "cell_type": "code",
   "execution_count": 23,
   "id": "extreme-chocolate",
   "metadata": {},
   "outputs": [],
   "source": [
    "img = cv2.imread('smarties.jpg', 0)\n",
    "\n",
    "_, th1 = cv2.threshold(img, 210, 255, cv2.THRESH_BINARY_INV)\n",
    "kernel = np.ones((5, 5), np.uint8)\n",
    "dilation = cv2.dilate(th1, kernel, iterations=2)\n",
    "erosion = cv2.erode(th1, kernel, iterations=1)\n",
    "\n",
    "cv2.imshow('Image', th1)\n",
    "cv2.imshow('Dilation', dilation)\n",
    "cv2.imshow('Erosion', erosion)\n",
    "\n",
    "cv2.waitKey(0)\n",
    "cv2.destroyAllWindows()"
   ]
  },
  {
   "cell_type": "code",
   "execution_count": null,
   "id": "robust-check",
   "metadata": {},
   "outputs": [],
   "source": []
  }
 ],
 "metadata": {
  "kernelspec": {
   "display_name": "Python 3",
   "language": "python",
   "name": "python3"
  },
  "language_info": {
   "codemirror_mode": {
    "name": "ipython",
    "version": 3
   },
   "file_extension": ".py",
   "mimetype": "text/x-python",
   "name": "python",
   "nbconvert_exporter": "python",
   "pygments_lexer": "ipython3",
   "version": "3.8.5"
  }
 },
 "nbformat": 4,
 "nbformat_minor": 5
}
