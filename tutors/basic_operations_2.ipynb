{
 "cells": [
  {
   "cell_type": "code",
   "execution_count": 2,
   "id": "popular-sudan",
   "metadata": {},
   "outputs": [],
   "source": [
    "import cv2\n",
    "import numpy as np"
   ]
  },
  {
   "cell_type": "code",
   "execution_count": 25,
   "id": "thrown-blink",
   "metadata": {},
   "outputs": [
    {
     "name": "stdout",
     "output_type": "stream",
     "text": [
      "151593\n",
      "(169, 299, 3)\n",
      "uint8\n"
     ]
    }
   ],
   "source": [
    "img = cv2.imread('messi.jpg')\n",
    "logo = cv2.imread('opencv-logo.png')\n",
    "\n",
    "print(img.size)\n",
    "print(img.shape)\n",
    "print(img.dtype)\n",
    "\n",
    "img = cv2.resize(img, (598, 339))\n",
    "logo = cv2.resize(logo, (598, 339))\n",
    "\n",
    "cor_1, cor_2 = (360, 285), (420, 338)\n",
    "\n",
    "#img = cv2.rectangle(img, cor_1, cor_2, (0,0,255), 1)\n",
    "\n",
    "ball = img[cor_1[1]:cor_2[1], cor_1[0]: cor_2[0]]\n",
    "\n",
    "img[285:338, 160:220] = ball\n",
    "\n",
    "#dst = cv2.add(img, logo)\n",
    "dst = cv2.addWeighted(img, 0.9, logo, 0.1, 0)\n",
    "\n",
    "#b, g, r = cv2.split(img)\n",
    "#img = cv2.merge((b, g, r))\n",
    "\n",
    "cv2.imshow('messi', dst)\n",
    "cv2.waitKey(0)\n",
    "cv2.destroyAllWindows()"
   ]
  },
  {
   "cell_type": "markdown",
   "id": "dried-thanks",
   "metadata": {},
   "source": [
    "### bitwise"
   ]
  },
  {
   "cell_type": "code",
   "execution_count": 32,
   "id": "fifty-austria",
   "metadata": {},
   "outputs": [],
   "source": [
    "img1 = np.zeros((500, 300))\n",
    "cv2.rectangle(img1, (0, 0), (100, 100), (255,255,255), -1)\n",
    "\n",
    "img2 = cv2.bitwise_and(img1, img1)\n",
    "img2 = cv2.bitwise_or(img1, img1)\n",
    "img2 = cv2.bitwise_xor(img1, img1)\n",
    "img2 = cv2.bitwise_not(img1, img1)\n",
    "\n",
    "cv2.imshow('image', img2)\n",
    "\n",
    "cv2.waitKey(0)\n",
    "cv2.destroyAllWindows()"
   ]
  },
  {
   "cell_type": "code",
   "execution_count": null,
   "id": "attractive-latin",
   "metadata": {},
   "outputs": [],
   "source": []
  }
 ],
 "metadata": {
  "kernelspec": {
   "display_name": "Python 3",
   "language": "python",
   "name": "python3"
  },
  "language_info": {
   "codemirror_mode": {
    "name": "ipython",
    "version": 3
   },
   "file_extension": ".py",
   "mimetype": "text/x-python",
   "name": "python",
   "nbconvert_exporter": "python",
   "pygments_lexer": "ipython3",
   "version": "3.8.5"
  }
 },
 "nbformat": 4,
 "nbformat_minor": 5
}
