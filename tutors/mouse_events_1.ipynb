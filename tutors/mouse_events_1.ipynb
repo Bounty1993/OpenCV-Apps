{
 "cells": [
  {
   "cell_type": "code",
   "execution_count": 3,
   "id": "fresh-montana",
   "metadata": {},
   "outputs": [],
   "source": [
    "import numpy as np\n",
    "import cv2"
   ]
  },
  {
   "cell_type": "code",
   "execution_count": 3,
   "id": "infectious-watts",
   "metadata": {},
   "outputs": [],
   "source": [
    "def mouse_event(event, x, y, flags, params):\n",
    "    if event == cv2.EVENT_LBUTTONDOWN:\n",
    "        print(x, ', ', y)\n",
    "        font = cv2.FONT_HERSHEY_SIMPLEX\n",
    "        strxy = str(x) + ', ' + str(y)\n",
    "        cv2.putText(img, strxy, (x, y), font, 1, (255,0,0), 2)\n",
    "        cv2.imshow('image', img)\n",
    "    elif event == cv2.EVENT_RBUTTONDOWN:\n",
    "        blue = img[x, y, 0]\n",
    "        green = img[x, y, 1]\n",
    "        red = img[x, y, 2]\n",
    "        font = cv2.FONT_HERSHEY_SIMPLEX\n",
    "        strxy = str(blue) + ', ' + str(green) + ', ' + str(red)\n",
    "        cv2.putText(img, strxy, (x, y), font, 1, (255,0,0), 2)\n",
    "        cv2.imshow('image', img)\n",
    "        \n",
    "img = np.zeros((640, 480, 3), np.uint8)\n",
    "cv2.imshow('image', img)\n",
    "cv2.setMouseCallback('image', mouse_event)\n",
    "\n",
    "cv2.waitKey(0)\n",
    "cv2.destroyAllWindows()"
   ]
  },
  {
   "cell_type": "code",
   "execution_count": 23,
   "id": "adjustable-chambers",
   "metadata": {},
   "outputs": [],
   "source": [
    "def mouse_event2(event, x, y, flags, params):\n",
    "    global points \n",
    "    if event == cv2.EVENT_LBUTTONDOWN:\n",
    "        cv2.circle(img, (x, y), 10, (0,0,255), -1)\n",
    "        points.append((x, y))\n",
    "        if len(points) > 1:\n",
    "            cv2.line(img, points[0], points[1], (0,0,255), 9)\n",
    "            points = points[1:]\n",
    "            \n",
    "        cv2.imshow('image2', img)\n",
    "\n",
    "    \n",
    "img = np.zeros((640, 480, 3), np.uint8)\n",
    "points = []\n",
    "cv2.imshow('image2', img)\n",
    "cv2.setMouseCallback('image2', mouse_event2)\n",
    "\n",
    "cv2.waitKey(0)\n",
    "cv2.destroyAllWindows()"
   ]
  },
  {
   "cell_type": "code",
   "execution_count": null,
   "id": "auburn-ideal",
   "metadata": {},
   "outputs": [],
   "source": []
  }
 ],
 "metadata": {
  "kernelspec": {
   "display_name": "Python 3",
   "language": "python",
   "name": "python3"
  },
  "language_info": {
   "codemirror_mode": {
    "name": "ipython",
    "version": 3
   },
   "file_extension": ".py",
   "mimetype": "text/x-python",
   "name": "python",
   "nbconvert_exporter": "python",
   "pygments_lexer": "ipython3",
   "version": "3.8.5"
  }
 },
 "nbformat": 4,
 "nbformat_minor": 5
}
